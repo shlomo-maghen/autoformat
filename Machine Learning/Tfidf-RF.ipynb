{
 "cells": [
  {
   "cell_type": "code",
   "execution_count": 1,
   "metadata": {
    "collapsed": false
   },
   "outputs": [],
   "source": [
    "from sklearn.feature_extraction.text import TfidfVectorizer\n",
    "import pandas as pd\n",
    "from sklearn.ensemble import RandomForestClassifier as RF\n",
    "from sklearn.model_selection import train_test_split\n",
    "from sklearn.metrics import accuracy_score\n",
    "import os\n",
    "\n",
    "def sentence_generator(f):\n",
    "    text = f.read()\n",
    "    lines = text.splitlines()\n",
    "    for line in lines:\n",
    "        if len(line) > 0:\n",
    "            yield line\n",
    "        else:\n",
    "            pass\n",
    "    f.close()"
   ]
  },
  {
   "cell_type": "code",
   "execution_count": null,
   "metadata": {
    "collapsed": false
   },
   "outputs": [
    {
     "name": "stdout",
     "output_type": "stream",
     "text": [
      "1700\n",
      "1700\n",
      "1700\n"
     ]
    }
   ],
   "source": [
    "# open files and create sentences\n",
    "samples_folder = '../samples'\n",
    "sample_files = os.listdir(samples_folder)\n",
    "\n",
    "frames = []\n",
    "\n",
    "for sample_file in sample_files:\n",
    "    full_sample_path = samples_folder + '/' + sample_file\n",
    "    sample = open(full_sample_path)\n",
    "    code_sentences = sentence_generator(sample)\n",
    "\n",
    "    # concert to tfidf matrices\n",
    "    tfidf = TfidfVectorizer(lowercase=False)\n",
    "    matrix = tfidf.fit_transform(code_sentences)\n",
    "\n",
    "    # convert to pandas dataframes\n",
    "    df = pd.DataFrame(matrix.toarray())\n",
    "    label = sample_file.split('.')[0]\n",
    "    df[\"label\"] = label\n",
    "    frames.append(df[:1700])\n",
    "\n",
    "    \n",
    "# process\n",
    "df = pd.concat(frames)\n",
    "df = df.fillna(0)\n",
    "df = df.sample(frac=1)\n",
    "\n",
    "print len(df[df.label == \"java\"])\n",
    "print len(df[df.label == \"python\"])\n",
    "print len(df[df.label == \"not_code\"])\n",
    "\n",
    "X = df.drop(\"label\", axis=1)\n",
    "y = df.label\n",
    "\n",
    "X_train, X_test, y_train, y_test = train_test_split(X, y, test_size=.33, random_state=1999)"
   ]
  },
  {
   "cell_type": "code",
   "execution_count": null,
   "metadata": {
    "collapsed": false
   },
   "outputs": [],
   "source": [
    "rf = RF()\n",
    "rf.fit(X_train, y_train)\n",
    "predictions = rf.predict(X_test)\n",
    "score = accuracy_score(y_test, predictions)\n",
    "score"
   ]
  },
  {
   "cell_type": "code",
   "execution_count": null,
   "metadata": {
    "collapsed": true
   },
   "outputs": [],
   "source": [
    "\n"
   ]
  },
  {
   "cell_type": "code",
   "execution_count": null,
   "metadata": {
    "collapsed": true
   },
   "outputs": [],
   "source": []
  }
 ],
 "metadata": {
  "anaconda-cloud": {},
  "kernelspec": {
   "display_name": "Python [conda root]",
   "language": "python",
   "name": "conda-root-py"
  },
  "language_info": {
   "codemirror_mode": {
    "name": "ipython",
    "version": 2
   },
   "file_extension": ".py",
   "mimetype": "text/x-python",
   "name": "python",
   "nbconvert_exporter": "python",
   "pygments_lexer": "ipython2",
   "version": "2.7.12"
  }
 },
 "nbformat": 4,
 "nbformat_minor": 1
}
